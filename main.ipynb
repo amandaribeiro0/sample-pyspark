{
 "cells": [
  {
   "cell_type": "markdown",
   "metadata": {},
   "source": [
    "Perguntas: \n",
    "número de fatalidades tem diminuido com os anos? *procure pelas colunas de fataliade\n",
    "durante a noite há mais ocorrências (18:00 a 05:00)?\n",
    "algumas regiões tem mais ocorrências que outras?\n",
    "Verificar em quantas cidades já aconteceram ocorrências?\n",
    "alguns operadores têm mais ocorrências que outros?"
   ]
  },
  {
   "cell_type": "code",
   "execution_count": 1,
   "metadata": {},
   "outputs": [
    {
     "name": "stdout",
     "output_type": "stream",
     "text": [
      "Requirement already satisfied: pyspark in /home/amanda/hadoop/spark-3.5/python (3.5.1)\n",
      "Requirement already satisfied: py4j==0.10.9.7 in ./.venv/lib/python3.10/site-packages (from pyspark) (0.10.9.7)\n",
      "Note: you may need to restart the kernel to use updated packages.\n"
     ]
    }
   ],
   "source": [
    "pip install pyspark"
   ]
  },
  {
   "cell_type": "code",
   "execution_count": 14,
   "metadata": {},
   "outputs": [],
   "source": [
    "from pyspark.sql import SparkSession\n",
    "from pyspark.sql import functions as F\n",
    "from pyspark.sql.functions import col, when, hour\n",
    "spark = SparkSession.builder.appName(\"MeuApp\").getOrCreate()"
   ]
  },
  {
   "cell_type": "code",
   "execution_count": 3,
   "metadata": {},
   "outputs": [
    {
     "name": "stderr",
     "output_type": "stream",
     "text": [
      "24/05/13 09:06:49 WARN SparkStringUtils: Truncated the string representation of a plan since it was too large. This behavior can be adjusted by setting 'spark.sql.debug.maxToStringFields'.\n"
     ]
    },
    {
     "name": "stdout",
     "output_type": "stream",
     "text": [
      "+--------------------+---------------+-----------------------------------------------------------+---------------------------+------------------+------------------+----------------------+-------------+------------+--------------------------------------------------+------------------------+--------+---------+-----------------+---------------------------------------------------------------------------------------------------------------------------------------------------------------------------------------------------------------------------------------------------------------------------------------------------------------------------------------------------------------------------------------------------------------------------------------------------------------------------------------------------------------------------------------------------------------------------------------------------------------------------------------------------------------------------------------------------------+---------+---------------------+-----------------------------------------------------------+------------------+------------------+-----------------+----------------+--------------------+-------------------+-------------------------+-------------------------+-----------------------+-------------------------+-------------------------+-----------------------+------------------------+------------------------+----------------------+------------------+------------------+--------------------------------+--------------------------------+------------------------------+-----------+----+---------+-----+------------------+--------------------------------------+----------+\n",
      "|Numero_da_Ocorrencia|Numero_da_Ficha|Operador_Padronizado                                       |Classificacao_da_Ocorrencia|Data_da_Ocorrencia|Hora_da_Ocorrencia|Municipio             |UF           |Regiao      |Descricao_do_Tipo                                 |ICAO                    |Latitude|Longitude|Tipo_de_Aerodromo|Historico                                                                                                                                                                                                                                                                                                                                                                                                                                                                                                                                                                                                                                                                                                |Matricula|Categoria_da_Aeronave|Operador                                                   |Tipo_de_Ocorrencia|Fase_da_Operacao  |Operacao         |Danos_a_Aeronave|Aerodromo_de_Destino|Aerodromo_de_Origem|Lesoes_Fatais_Tripulantes|Lesoes_Fatais_Passageiros|Lesoes_Fatais_Terceiros|Lesoes_Graves_Tripulantes|Lesoes_Graves_Passageiros|Lesoes_Graves_Terceiros|Lesoes_Leves_Tripulantes|Lesoes_Leves_Passageiros|Lesoes_Leves_Terceiros|Ilesos_Tripulantes|Ilesos_Passageiros|Lesoes_Desconhecidas_Tripulantes|Lesoes_Desconhecidas_Passageiros|Lesoes_Desconhecidas_Terceiros|Modelo     |CLS |Tipo_ICAO|PMD  |Numero_de_Assentos|Nome_do_Fabricante                    |PSSO      |\n",
      "+--------------------+---------------+-----------------------------------------------------------+---------------------------+------------------+------------------+----------------------+-------------+------------+--------------------------------------------------+------------------------+--------+---------+-----------------+---------------------------------------------------------------------------------------------------------------------------------------------------------------------------------------------------------------------------------------------------------------------------------------------------------------------------------------------------------------------------------------------------------------------------------------------------------------------------------------------------------------------------------------------------------------------------------------------------------------------------------------------------------------------------------------------------------+---------+---------------------+-----------------------------------------------------------+------------------+------------------+-----------------+----------------+--------------------+-------------------+-------------------------+-------------------------+-----------------------+-------------------------+-------------------------+-----------------------+------------------------+------------------------+----------------------+------------------+------------------+--------------------------------+--------------------------------+------------------------------+-----------+----+---------+-----+------------------+--------------------------------------+----------+\n",
      "|25043               |202019110      |CARAJÁS SERVIÇOS DE LOCAÇÃO LTDA EPF                       |Incidente                  |17/06/2020        |22:10             |ALTO ALEGRE           |RR           |Norte       |OUTROS                                            |SJYG                    |2,765   |-62,2214 |Privado          |A ORIGEM E DESTINO ERAM DESCONHECIDOS, BEM COMO A FINALIDADE DO VOO. DE ACORDO COM INFORMAÇÕES DO OPERADOR, POR VOLTA DAS 18H10MIN LOCAL O PILOTO TEVE PANE NO GPS DA AERONAVE E SIMULTANEAMENTE ENCONTROU CONDIÇÕES METEOROLÓGICAS ADVERSAS NA ROTA, REALIZANDO UM POUSO DE PRECAUÇÃO NO AERÓDROMO ALTO MUCAJAÍ ( SJYG ), ALTO ALEGRE, RR, ÁREA INDÍGENA YANOMAMI. APÓS O POUSO A AERONAVE FOI DANIFICADA E O PILOTO DETIDO PELOS INDÍGENAS. A AERONAVE NÃO TEVE DANOS DURANTE A REALIZAÇÃO DO POUSO DE PRECAUÇÃO. O TRIPULANTE SAIU ILESO.                                                                                                                                                             |PTCZC    |TPP                  |CARAJÁS SERVIÇOS DE LOCAÇÃO LTDA EPF                       |OTHR              |Indeterminada     |Voo Privado      |Nenhum          |null                |null               |null                     |null                     |null                   |null                     |null                     |null                   |null                    |null                    |null                  |1                 |null              |null                            |null                            |null                          |182K       |L1P |C182     |1270 |4                 |CESSNA AIRCRAFT                       |VERDADEIRO|\n",
      "|25081               |0940/2013      |TAP AIR PORTUGAL                                           |Incidente                  |13/04/2013        |17:56             |Brasília              |DF           |Centro-Oeste|COLISÃO NO SOLO                                   |SBBR                    |-15,8692|-47,9208 |Público          |No dia 13 de abril de 2013 a aeronave A-330 da TAP, procedente da cidade de lisboa, pousou na pista 29L no aeroporto internacional de Brasília, quando ao iniciar o táxi para o pátio de estacionamento, foi orientado pelo Controle de Solo para prosseguir pelas TWY M, R e L4. Às 14:56 (horário local), ao taxiar pela TWY L4, a aeronave colidiu a ponta da asa esquerda contra uma torre de iluminação, provocando danos a winglet da referida asa. Todos os 239 passageiros e 11 tripulantes saíram ilesos.                                                                                                                                                                                       |CSTOF    |Estrangeira          |TAP AIR PORTUGAL                                           |GCOL              |Táxi              |Voo Regular      |Leve            |SBBR                |XXXX               |null                     |null                     |null                   |null                     |null                     |null                   |null                    |null                    |null                  |11                |239               |null                            |null                            |null                          |null       |null|null     |null |null              |null                                  |FALSO     |\n",
      "|25503               |202023366      |AZUL                                                       |Incidente                  |02/10/2020        |19:02             |CAMPINAS              |SP           |Sudeste     |FOGO/FUMAÇA                                       |SBKP                    |-23,0069|-47,1344 |Público          |A AERONAVE DECOLOU DO AERÓDROMO VIRACOPOS (SBKP), CAMPINAS, SP, COM DESTINO AO AERÓDROMO HERCÍLIO LUZ (SBFL), FLORIANÓPOLIS, SC, A FIM DE TRANSPORTAR PESSOAL, COM CINCO TRIPULANTES E CENTO E TRINTA E NOVE PASSAGEIROS A BORDO.DURANTE A SUBIDA, OCORREU A INDICAÇÃO DE 'DUE MID EBAY SMOKE'. A TRIPULAÇÃO EFETUOU OS PROCEDIMENTOS NO QRH E DECIDIU POR RETORNAR PARA O AERÓDROMO DE ORIGEM.FOI DECLARADA EMERGÊNCIA. O POUSO FOI REALIZADO NORMALMENTE E SEM INTERCORRÊNCIAS.A AERONAVE NÃO TEVE DANOS.OS CINCO TRIPULANTES E OS CENTO E TRINTA E NOVE PASSAGEIROS SAÍRAM ILESOS.                                                                                                                    |PSAEA    |TPR                  |AZUL LINHAS AEREAS BRASILEIRAS S.A                         |F-NI              |Subida            |Voo Regular      |Nenhum          |SBFL                |SBKP               |null                     |null                     |null                   |null                     |null                     |null                   |null                    |null                    |null                  |5                 |139               |null                            |null                            |null                          |ERJ 190-400|L2J |E295     |61500|143               |EMBRAER                               |VERDADEIRO|\n",
      "|25623               |202021754      |JOAO MAURICIO GOTTARDI LOPES                               |Incidente                  |07/10/2020        |15:30             |ARAÇATUBA             |SP           |Sudeste     |CONTATO ANORMAL COM A PISTA                       |SBAU                    |-21,1442|-50,4264 |Público          |A AERONAVE DECOLOU DO AERÓDROMO GOVERNADOR JOSÉ RICHA (SBLO), LONDRINA, PR, COM DESTINO AO AERÓDROMO DE ARAÇATUBA (SBAU), ARAÇATUBA, SP, PARA UM VOO PRIVADO, COM UM TRIPULANTE E UM PASSAGEIRO A BORDO. NA FINAL PARA O POUSO, SEGUNDO RELATO DO PILOTO, HOUVE UMA RAJADA DE VENTO E AO TOCAR A PISTA HOUVE O DESPRENDIMENTO DA RODA DA BEQUILHA. A AERONAVE TEVE DANOS LEVES. O PILOTO E O PASSAGEIRO SAÍRAM ILESOS.                                                                                                                                                                                                                                                                                   |PTJBJ    |TPP                  |JOAO MAURICIO GOTTARDI LOPES                               |ARC               |Pouso             |Voo Privado      |Leve            |SBAU                |SBLO               |null                     |null                     |null                   |null                     |null                     |null                   |null                    |null                    |null                  |1                 |1                 |null                            |null                            |null                          |180J       |L1P |C180     |1270 |6                 |CESSNA AIRCRAFT                       |VERDADEIRO|\n",
      "|25624               |202004387      |JOSE LUIZ CUNHA RODRIGUES                                  |Incidente                  |06/10/2020        |15:25             |SÃO PAULO             |SP           |Sudeste     |FALHA OU MAU FUNCIONAMENTO DE SISTEMA / COMPONENTE|SBMT                    |-23,51  |-46,63   |Público          |A AERONAVE DECOLOU DO AERÓDROMO ESTADUAL DE CAMPOS DOS AMARAIS-PREFEITO FRANCISCO AMARAL (SDAM), EM CAMPINAS-SP, PARA VOO PRIVADO, COM PREVISÃO DE PROCEDIMENTOS DE TOQUE E ARREMETIDA NO AERÓDROMO CAMPO DE MARTE (SBMT), EM SÃO PAULO-SP. DURANTE O PROCEDIMENTO DE TOQUE E ARREMETIDA, O PILOTO NOTOU VIBRAÇÃO NA AERONAVE E ABORTOU O PROCEDIMENTO, EFETUANDO O POUSO. APÓS O POUSO CONSTATOU-SE AVARIA NO PNEU DO TREM AUXILIAR. A AERONAVE TEVE DANOS LEVES. O PILOTO SAIU ILESO.                                                                                                                                                                                                                  |PTOFI    |TPP                  |JOSE LUIZ CUNHA RODRIGUES                                  |SCF-NP            |Arremetida        |Voo Privado      |Leve            |SDAM                |SDAM               |null                     |null                     |null                   |null                     |null                     |null                   |null                    |null                    |null                  |1                 |null              |null                            |null                            |null                          |M20J       |L1P |M20P     |1243 |4                 |MOONEY AIRCRAFT                       |VERDADEIRO|\n",
      "|25625               |202089223      |JP MARTINS AVIACAO LTDA                                    |Ocorrência Anormal         |02/10/2020        |14:58             |SÃO PAULO             |SP           |Sudeste     |FALHA OU MAU FUNCIONAMENTO DE SISTEMA / COMPONENTE|SBMT                    |-23,5067|-46,6339 |Público          |A AERONAVE DECOLOU DO AERÓDROMO BARTOLOMEU DE GUSMÃO (SBAQ), ARARAQUARA, SP, COM DESTINO AO AERÓDROMO CAMPO DE MARTE (SBMT), SÃO PAULO, SP, PARA VOO PRIVADO, COM UM PILOTO A BORDO. A AERONAVE EFETUOU O POUSO EM SEGURANÇA SEM COMUNICAÇÕES COM A TORRE. A AERONAVE NÃO TEVE DANOS. O PILOTO SAIU ILESO.                                                                                                                                                                                                                                                                                                                                                                                               |PTMJP    |TPP                  |JP MARTINS AVIACAO LTDA                                    |SCF-NP            |Pouso             |Voo Privado      |Nenhum          |SBMT                |SBAQ               |null                     |null                     |null                   |null                     |null                     |null                   |null                    |null                    |null                  |1                 |null              |null                            |null                            |null                          |NAVION H   |L1P |NAVI     |1504 |4                 |NAVION AIRCRAFT                       |VERDADEIRO|\n",
      "|25626               |202096550      |MINIST.JUST.SECRET.NAC.DE SEG.PUB.                         |Acidente                   |08/10/2020        |16:00             |CORUMBÁ               |MS           |Centro-Oeste|FALHA OU MAU FUNCIONAMENTO DO MOTOR               |Fora de Aeródromo       |-17,4417|-56,8269 |-                |A aeronave decolou do Aeroporto Internacional de Corumbá (SBCR), Corumbá, MS, com destino ao Aeródromo/Hotel Porto Jofre (SJQI), MT, por volta das 15h00min UTC, a fim de retornar à base operacional, com dois pilotos e um graduado operacional (fiel) a bordo. A aproximadamente 5 minutos para o pouso, o alarme de perda de rotação soou, ocorrendo, na sequência, uma perda de potência no motor da aeronave. O piloto prosseguiu para um pouso de emergência em uma área descampada à sua frente. Após o toque, houve a quebra dos esquis da aeronave e seu tombamento lateral. Os pilotos sofreram lesões graves e o terceiro tripulante sofreu lesões leves. A aeronave teve danos substanciais.|PRMJZ    |ADF                  |MINIST.JUST.SECRET.NAC.DE SEG.PUB.                         |SCF-PP            |Cruzeiro          |Operação Pública |Substancial     |SJQI                |SBCR               |null                     |null                     |null                   |2                        |null                     |null                   |1                       |null                    |null                  |null              |null              |null                            |null                            |null                          |AS 350 B2  |H1T |AS50     |2250 |6                 |EUROCOPTER FRANCE                     |VERDADEIRO|\n",
      "|25765               |202035543      |PIQUIATUBA TAXI AÉREO LTDA                                 |Incidente                  |16/10/2020        |17:45             |MACAPÁ                |AP           |Norte       |FALHA OU MAU FUNCIONAMENTO DE SISTEMA / COMPONENTE|SBMQ                    |0,050833|-51,0703 |Público          |Durante o início da corrida de decolagem no Aeroporto Internacional de Macapá Alberto Alcolumbre (SBMQ), Macapá, AP, com destino ao Aeroporto Internacional de Belém, Val de Cans, Júlio Cezar Ribeiro (SBBE), Belém, PA, por volta das 14h45min, a fim de transportar malote de valores e pessoal, com dois pilotos e dois passageiros a bordo, o pneu do trem principal esquerdo esvaziou, próximo a cabeceira 08. A aeronave percorreu cerca de 30 menos e parou dentro dos limites da pista.A aeronave não teve danos. Os tripulantes e os passageiros saíram ilesos.                                                                                                                                |PTMFL    |TPX                  |PIQUIATUBA TAXI AÉREO LTDA                                 |SCF-NP            |Decolagem         |Táxi Aéreo       |Nenhum          |SBBE                |SBMQ               |null                     |null                     |null                   |null                     |null                     |null                   |null                    |null                    |null                  |2                 |2                 |null                            |null                            |null                          |PA-42      |L2T |PAY3     |5080 |9                 |PIPER AIRCRAFT                        |VERDADEIRO|\n",
      "|25766               |202025269      |VOARE TAXI AEREO LTDA                                      |Incidente                  |16/10/2020        |17:30             |CANTÁ                 |RR           |Norte       |COLISÃO COM AVE                                   |SWPD                    |2,78738 |-60,5957 |Privado          |A aeronave decolou do Aeródromo de Pouso da Águia (SWPD), Cantá, RR, por volta das 17h15min (UTC), para realizar um voo local, tendo apenas o piloto a bordo. Durante o circuito de tráfego VFR em SWPD, houve colisão com fauna no bordo de ataque da asa direita.A aeronave foi pousada normalmente e teve danos leves.O piloto saiu ileso.                                                                                                                                                                                                                                                                                                                                                            |PRNYA    |TPX                  |VOARE TAXI AEREO LTDA                                      |BIRD              |Circuto de Tráfego|Voo Privado      |Leve            |SWPD                |SWPD               |null                     |null                     |null                   |null                     |null                     |null                   |null                    |null                    |null                  |1                 |null              |null                            |null                            |null                          |210L       |L1P |C210     |1724 |6                 |CESSNA AIRCRAFT                       |VERDADEIRO|\n",
      "|26304               |202056314      |AERO AGRICOLA ROSARIENSE LTDA                              |Acidente                   |09/12/2020        |21:30:00          |SANT'ANA DO LIVRAMENTO|RS           |Sul         |COMBUSTÍVEL                                       |Fora de Aeródromo       |-30,6056|-55,0564 |-                |A aeronave decolou da pista pouso eventual da Fazenda Colorado, município de Santana do Livramento, RS, às 18h10min (UTC), a fim de realizar pulverização de defensivos agrícolas em lavoura de arroz, com um piloto a bordo. Após 20 minutos de voo, a aeronave teve um apagamento do motor. O piloto realizou pouso de emergência em lavoura de soja, porém antes do pouso colidiu o trem de pouso principal em uma valeta. A aeronave teve danos substanciais. O tripulante saiu ileso.                                                                                                                                                                                                               |PRREN    |S11                  |AERO AGRICOLA ROSARIENSE LTDA                              |FUEL              |Voo a baixa altura|Operação Agrícola|Substancial     |null                |null               |null                     |null                     |null                   |null                     |null                     |null                   |null                    |null                    |null                  |1                 |null              |null                            |null                            |null                          |A188B      |L1P |C188     |1905 |1                 |CESSNA AIRCRAFT                       |VERDADEIRO|\n",
      "|26190               |202039595      |AZUL                                                       |Incidente                  |23/11/2020        |10:35             |MACEIÓ                |AL           |Nordeste    |FALHA OU MAU FUNCIONAMENTO DE SISTEMA / COMPONENTE|SBMO                    |-9,51722|-35,7836 |Público          |A AERONAVE DECOLOU DO AERÓDROMO ZUMBI DOS PALMARES (SBMO), MACEIÓ, AL, COM DESTINO AO AERÓDROMO GUARARAPES - GILBERTO FREYRE (SBRF), RECIFE, PE, A FIM DE EFETUAR TRANSPORTE AÉREO PÚBLICO REGULAR, COM QUATRO TRIPULANTES E SETENTA PASSAGEIROS A BORDO. DURANTE A SUBIDA APRESENTOU INDICAÇÃO DE DC GEN #1 FAULT. A TRIPULAÇÃO EFETUOU OS PROCEDIMENTOS NO QRH E DECIDIU POR RETORNAR PARA O AERÓDROMO DE ORIGEM, DECLARANDO EMERGÊNCIA (PAN PAN). O POUSO FOI REALIZADO NORMALMENTE E SEM INTERCORRÊNCIAS. A AERONAVE NÃO TEVE DANOS. OS QUATRO TRIPULANTES E OS SETENTA PASSAGEIROS SAÍRAM ILESOS.                                                                                                   |PRAQJ    |TPR                  |AZUL LINHAS AEREAS BRASILEIRAS S.A                         |SCF-NP            |Subida            |Voo Regular      |Nenhum          |SBRF                |SBMO               |null                     |null                     |null                   |null                     |null                     |null                   |null                    |null                    |null                  |4                 |70                |null                            |null                            |null                          |ATR-72-212A|L2T |AT76     |23000|75                |ATR - GIE AVIONS DE TRANSPORT RÉGIONAL|VERDADEIRO|\n",
      "|26303               |202070575      |VIDEPLAST INDUSTRIA DE EMBALAGENS LTDA                     |Ocorrência Anormal         |09/12/2020        |14:30             |SÃO PAULO             |SP           |Sudeste     |FALHA OU MAU FUNCIONAMENTO DE SISTEMA / COMPONENTE|SBSP                    |-23,6216|-46,66   |Público          |A AERONAVE COM INTENSÃO DE DECOLAGEM DO AERÓDROMO DE CONGONHAS, SP (SBSP), COM DESTINO AO AERÓDROMO DE CAÇADOR, SC (SBCD), POR VOLTA DAS 11H30MIN (LOCAL), A FIM DE REALIZAR UM VOO PRIVADO DE TRANSPORTE DE PESSOAL, COM UM PILOTO E TRÊS PASSAGEIROS A BORDO.DURANTE TÁXI PARA DECOLAGEM A AERONAVE APRESENTOU BAIXA PRESSÃO NO SISTEMA DE FREIOS. O PILOTO SOLICITOU ROBOQUE E RETORNOU AO HANGAR DE ORIGEM.A AERONAVE NÃO TEVE DANOS.O TRIPULANTE E OS TRÊS PASSAGEIROS SAÍRAM ILESOS.                                                                                                                                                                                                               |PRRIF    |TPP                  |VIDEPLAST INDUSTRIA DE EMBALAGENS LTDA                     |SCF-NP            |Táxi              |Voo Privado      |Nenhum          |SBCD                |SBSP               |null                     |null                     |null                   |null                     |null                     |null                   |null                    |null                    |null                  |1                 |3                 |null                            |null                            |null                          |525        |L2J |C525     |4853 |8                 |CESSNA AIRCRAFT                       |VERDADEIRO|\n",
      "|24541               |202008894      |ALIQUAM PARTICIPAÇÕES CONSULTORIA E GESTÃO EMPRESARIAL S.A.|Incidente                  |15/06/2020        |18:20             |BAURU                 |SP           |Sudeste     |FALHA OU MAU FUNCIONAMENTO DE SISTEMA / COMPONENTE|SBBU                    |-22,3436|-49,0539 |Público          |A AERONAVE DECOLOU DO AERÓDROMO DE CONGONHAS (SBSP), SÃO PAULO, SP, COM DESTINO AO AERÓDROMO DE BAURU (SBBU), SP, A FIM DE REALIZAR VOO DE INSTRUÇÃO, COM DOIS PILOTOS A BORDO. APÓS O POUSO, DURANTE O TÁXI DA AERONAVE, FOI PERCEBIDO QUE O PNEU DO TREM DO NARIZ HAVIA FURADO. NÃO HOUVE DANO À AERONAVE. OS DOIS TRIPULANTES SAÍRAM ILESOS.                                                                                                                                                                                                                                                                                                                                                          |PRDRY    |TPP                  |ALIQUAM PARTICIPAÇÕES CONSULTORIA E GESTÃO EMPRESARIAL S.A.|SCF-NP            |Táxi              |Voo Privado      |Nenhum          |SBBU                |SBSP               |null                     |null                     |null                   |null                     |null                     |null                   |null                    |null                    |null                  |2                 |null              |null                            |null                            |null                          |695        |L2T |AC95     |4683 |8                 |TWIN COMMANDER                        |VERDADEIRO|\n",
      "|26123               |202060427      |MARCIO ROBERTO SALES DE ARAUJO                             |Acidente                   |19/11/2020        |15:00             |IPIXUNA DO PARÁ       |PA           |Norte       |OUTROS                                            |Aeródromo não cadastrado|-2,52357|-47,5181 |null             |A AERONAVE DECOLOU DE UMA PISTA DESCONHECIDA COM DESTINO A UMA PISTA NÃO REGISTRADA LOCALIZADA NO MUNICÍPIO DE IPIXUNA DO PARÁ, PA, EM HORÁRIO DESCONHECIDO, COM DOIS OCUPANTES A BORDO E CARGA DE ENTORPECENTES.DURANTE O POUSO NA PISTA NÃO REGISTRADA A AERONAVE FOI INTERCEPTADA POR AGENTES DA POLÍCIA FEDERAL. A AERONAVE SAIU LATERALMENTE PELA DIREITA E PAROU FORA DOS LIMITES DA PISTA, APÓS SER ALVEJADA POR TIROS. A AERONAVE TEVE DANOS SUBSTANCIAIS.O TRIPULANTE SOFREU LESÕES LEVES E O PASSAGEIRO SAIU ILESO.                                                                                                                                                                            |PTOQB    |TPP                  |MARCIO ROBERTO SALES DE ARAUJO                             |OTHR              |Pouso             |Voo Privado      |Substancial     |null                |null               |null                     |null                     |null                   |null                     |null                     |null                   |1                       |null                    |null                  |null              |1                 |null                            |null                            |null                          |58TC       |L2P |BE58     |2767 |6                 |BEECH AIRCRAFT                        |FALSO     |\n",
      "|1359                |562/2010       |GOL                                                        |Incidente                  |02/11/2010        |null              |null                  |Indeterminado|null        |null                                              |null                    |null    |null     |null             |COLISÃO COM PÁSSARO                                                                                                                                                                                                                                                                                                                                                                                                                                                                                                                                                                                                                                                                                      |PRGII    |TPR                  |GOL                                                        |null              |null              |Voo Regular      |null            |NULL                |NULL               |0                        |0                        |0                      |0                        |0                        |0                      |0                       |0                       |0                     |0                 |0                 |0                               |0                               |0                             |737-7L9    |L2J |B737     |67996|148               |BOEING COMPANY                        |VERDADEIRO|\n",
      "|1355                |561/2010       |GOL                                                        |Incidente                  |01/11/2010        |null              |null                  |RS           |Sul         |null                                              |null                    |null    |null     |null             |COLISÃO COM PÁSSARO                                                                                                                                                                                                                                                                                                                                                                                                                                                                                                                                                                                                                                                                                      |PRGTM    |TPR                  |GOL                                                        |null              |null              |Voo Regular      |null            |NULL                |NULL               |0                        |0                        |0                      |0                        |0                        |0                      |0                       |0                       |0                     |0                 |0                 |0                               |0                               |0                             |737-8EH    |L2J |B738     |74995|196               |BOEING COMPANY                        |VERDADEIRO|\n",
      "|1349                |489/2010       |GOL                                                        |Ocorrência Anormal         |30/10/2010        |null              |null                  |PR           |Sul         |null                                              |null                    |null    |null     |null             |COLISÃO COM PÁSSARO                                                                                                                                                                                                                                                                                                                                                                                                                                                                                                                                                                                                                                                                                      |PRGTU    |TPR                  |GOL                                                        |null              |null              |Voo Regular      |null            |NULL                |NULL               |0                        |0                        |0                      |0                        |0                        |0                      |0                       |0                       |0                     |0                 |0                 |0                               |0                               |0                             |737-8EH    |L2J |B738     |74995|196               |BOEING COMPANY                        |VERDADEIRO|\n",
      "|1348                |490/2010       |GOL                                                        |Incidente                  |30/10/2010        |null              |null                  |SP           |Sudeste     |null                                              |null                    |null    |null     |null             |COLISÃO COM PÁSSARO                                                                                                                                                                                                                                                                                                                                                                                                                                                                                                                                                                                                                                                                                      |PRGGM    |TPR                  |GOL                                                        |null              |null              |Voo Regular      |null            |NULL                |NULL               |0                        |0                        |0                      |0                        |0                        |0                      |0                       |0                       |0                     |0                 |0                 |0                               |0                               |0                             |737-8EH    |L2J |B738     |74995|196               |BOEING COMPANY                        |VERDADEIRO|\n",
      "|24542               |202061379      |FUNDO DE MELHORIA DO CORPO DE BOMBEIROS                    |Incidente                  |09/06/2020        |14:00             |IBIRAMA               |SC           |Sul         |COLISÃO COM AVE                                   |Fora de Aeródromo       |-26,9659|-49,5173 |-                |A aeronave decolou por volta das 13h40min (UTC) do Aeródromo de Blumenau (SSBL), SC, para um voo local de atendimento médico, com dois tripulantes e três passageiros a bordo. Por volta das 14h00min (UTC), a tripulação ouviu um ruído seguido por breve vibração, provavelmente resultante de uma colisão com pássaro. O comandante assumiu os comandos e efetuou o pouso em uma plantação localizada nas proximidades do local de pouso inicialmente pretendido. Foram identificados danos leves no estabilizador horizontal e ponta da pá do rotor de cauda, e a aeronave decolou para a sede do Batalhão de Operações Aéreas em SSBL. Todos os ocupantes saíram ilesos.                            |PRBNU    |ADE                  |FUNDO DE MELHORIA DO CORPO DE BOMBEIROS                    |BIRD              |Cruzeiro          |Operação Pública |Leve            |SSBL                |SSBL               |null                     |null                     |null                   |null                     |null                     |null                   |null                    |null                    |null                  |2                 |3                 |null                            |null                            |null                          |AS 350 B2  |H1T |AS50     |2250 |6                 |HELIBRAS                              |VERDADEIRO|\n",
      "|24543               |202085292      |LIDERAR TÁXI AÉREO LTDA                                    |Ocorrência de Solo         |26/05/2020        |08:20             |SÃO PAULO             |SP           |Sudeste     |OPERAÇÕES NO SOLO                                 |SBSP                    |-23,6261|-46,6564 |Público          |A AERONAVE ESTAVA SENDO ABASTECIDA POR PRESSÃO, NO AERÓDROMO DE CONGONHAS (SBSP), EM SÃO PAULO, SP, SENDO ACOMPANHADA POR DOIS TRIPULANTES. DURANTE O ABASTECIMENTO, APÓS O ENCHIMENTO DOS TANQUES, NÃO HOUVE A INTERRUPÇÃO AUTOMÁTICA DO FLUXO, FAZENDO COM QUE O VOLUME DE COMBUSTÍVEL NOS TANQUES EXTRAPOLASSE A CAPACIDADE MÁXIMA SUPORTADA. HOUVE VAZAMENTO DE COMBUSTÍVEL, E A EXPANSÃO DO REVESTIMENTO DA ASA ESQUERDA, COM CISALHAMENTO DE REBITES. A AERONAVE TEVE DANOS SUBSTANCIAIS. A TRIPULAÇÃO SAIU ILESA.                                                                                                                                                                                 |PPLID    |TPX                  |LIDERAR TÁXI AÉREO LTDA                                    |RAMP              |Operação de Solo  |Táxi Aéreo       |Substancial     |SBTE                |SBSP               |null                     |null                     |null                   |null                     |null                     |null                   |null                    |null                    |null                  |2                 |null              |null                            |null                            |null                          |EMB-505    |L2J |E55P     |8340 |10                |EMBRAER                               |VERDADEIRO|\n",
      "+--------------------+---------------+-----------------------------------------------------------+---------------------------+------------------+------------------+----------------------+-------------+------------+--------------------------------------------------+------------------------+--------+---------+-----------------+---------------------------------------------------------------------------------------------------------------------------------------------------------------------------------------------------------------------------------------------------------------------------------------------------------------------------------------------------------------------------------------------------------------------------------------------------------------------------------------------------------------------------------------------------------------------------------------------------------------------------------------------------------------------------------------------------------+---------+---------------------+-----------------------------------------------------------+------------------+------------------+-----------------+----------------+--------------------+-------------------+-------------------------+-------------------------+-----------------------+-------------------------+-------------------------+-----------------------+------------------------+------------------------+----------------------+------------------+------------------+--------------------------------+--------------------------------+------------------------------+-----------+----+---------+-----+------------------+--------------------------------------+----------+\n",
      "only showing top 20 rows\n",
      "\n"
     ]
    }
   ],
   "source": [
    "df_ocorrencias = spark.read.option(\"delimiter\", \";\").option(\"header\", True).csv(\"ocorrencia.csv\")\n",
    "df_ocorrencias.show(truncate=False)"
   ]
  },
  {
   "cell_type": "code",
   "execution_count": 4,
   "metadata": {},
   "outputs": [
    {
     "name": "stdout",
     "output_type": "stream",
     "text": [
      "+-----------+-------------------+--------+---------+-------+---------+--------+---+-----------------+\n",
      "|codigo_ibge|nome               |latitude|longitude|capital|codigo_uf|siafi_id|ddd|fuso_horario     |\n",
      "+-----------+-------------------+--------+---------+-------+---------+--------+---+-----------------+\n",
      "|5200050    |Abadia de Goiás    |-16.7573|-49.4412 |0      |52       |1050    |62 |America/Sao_Paulo|\n",
      "|3100104    |Abadia dos Dourados|-18.4831|-47.3916 |0      |31       |4001    |34 |America/Sao_Paulo|\n",
      "|5200100    |Abadiânia          |-16.197 |-48.7057 |0      |52       |9201    |62 |America/Sao_Paulo|\n",
      "|3100203    |Abaeté             |-19.1551|-45.4444 |0      |31       |4003    |37 |America/Sao_Paulo|\n",
      "|1500107    |Abaetetuba         |-1.72183|-48.8788 |0      |15       |0401    |91 |America/Sao_Paulo|\n",
      "|2300101    |Abaiara            |-7.34588|-39.0416 |0      |23       |1301    |88 |America/Sao_Paulo|\n",
      "|2900108    |Abaíra             |-13.2488|-41.6619 |0      |29       |3301    |77 |America/Sao_Paulo|\n",
      "|2900207    |Abaré              |-8.72073|-39.1162 |0      |29       |3303    |75 |America/Sao_Paulo|\n",
      "|4100103    |Abatiá             |-23.3049|-50.3133 |0      |41       |7401    |43 |America/Sao_Paulo|\n",
      "|4200051    |Abdon Batista      |-27.6126|-51.0233 |0      |42       |9939    |49 |America/Sao_Paulo|\n",
      "|1500131    |Abel Figueiredo    |-4.95333|-48.3933 |0      |15       |0375    |94 |America/Sao_Paulo|\n",
      "|4200101    |Abelardo Luz       |-26.5716|-52.3229 |0      |42       |8001    |49 |America/Sao_Paulo|\n",
      "|3100302    |Abre Campo         |-20.2996|-42.4743 |0      |31       |4005    |31 |America/Sao_Paulo|\n",
      "|2600054    |Abreu e Lima       |-7.90072|-34.8984 |0      |26       |2631    |81 |America/Sao_Paulo|\n",
      "|1700251    |Abreulândia        |-9.62101|-49.1518 |0      |17       |0337    |63 |America/Sao_Paulo|\n",
      "|3100401    |Acaiaca            |-20.359 |-43.1439 |0      |31       |4007    |31 |America/Sao_Paulo|\n",
      "|2100055    |Açailândia         |-4.94714|-47.5004 |0      |21       |0961    |99 |America/Sao_Paulo|\n",
      "|2900306    |Acajutiba          |-11.6575|-38.0197 |0      |29       |3305    |75 |America/Sao_Paulo|\n",
      "|1500206    |Acará              |-1.95383|-48.1985 |0      |15       |0403    |91 |America/Sao_Paulo|\n",
      "|2300150    |Acarape            |-4.22083|-38.7055 |0      |23       |1231    |85 |America/Sao_Paulo|\n",
      "+-----------+-------------------+--------+---------+-------+---------+--------+---+-----------------+\n",
      "only showing top 20 rows\n",
      "\n"
     ]
    }
   ],
   "source": [
    "df_municipios = spark.read.option(\"delimiter\", \",\").option(\"header\", True).csv(\"municipios.csv\")\n",
    "df_municipios.show(truncate=False)"
   ]
  },
  {
   "cell_type": "code",
   "execution_count": 17,
   "metadata": {},
   "outputs": [],
   "source": [
    "# Definir uma função que verifica o período do dia\n",
    "def periodo_dia(hora_col):\n",
    "    return F.when(\n",
    "        hora_col.isNull(), F.lit(None)\n",
    "    ).when(\n",
    "        (hora_col >= 18) | (hora_col < 5), F.lit('noite')\n",
    "    ).otherwise(F.lit('dia'))"
   ]
  },
  {
   "cell_type": "code",
   "execution_count": 20,
   "metadata": {},
   "outputs": [
    {
     "name": "stdout",
     "output_type": "stream",
     "text": [
      "+--------------------+---------------------------+------------------+--------------+\n",
      "|Numero_da_Ocorrencia|Classificacao_da_Ocorrencia|Hora_da_Ocorrencia|Periodo_do_Dia|\n",
      "+--------------------+---------------------------+------------------+--------------+\n",
      "|25043               |Incidente                  |22:10             |noite         |\n",
      "|25081               |Incidente                  |17:56             |dia           |\n",
      "|25503               |Incidente                  |19:02             |noite         |\n",
      "|25623               |Incidente                  |15:30             |dia           |\n",
      "|25624               |Incidente                  |15:25             |dia           |\n",
      "|25625               |Ocorrência Anormal         |14:58             |dia           |\n",
      "|25626               |Acidente                   |16:00             |dia           |\n",
      "|25765               |Incidente                  |17:45             |dia           |\n",
      "|25766               |Incidente                  |17:30             |dia           |\n",
      "|26304               |Acidente                   |21:30:00          |noite         |\n",
      "|26190               |Incidente                  |10:35             |dia           |\n",
      "|26303               |Ocorrência Anormal         |14:30             |dia           |\n",
      "|24541               |Incidente                  |18:20             |noite         |\n",
      "|26123               |Acidente                   |15:00             |dia           |\n",
      "|1359                |Incidente                  |null              |NULL          |\n",
      "|1355                |Incidente                  |null              |NULL          |\n",
      "|1349                |Ocorrência Anormal         |null              |NULL          |\n",
      "|1348                |Incidente                  |null              |NULL          |\n",
      "|24542               |Incidente                  |14:00             |dia           |\n",
      "|24543               |Ocorrência de Solo         |08:20             |dia           |\n",
      "+--------------------+---------------------------+------------------+--------------+\n",
      "only showing top 20 rows\n",
      "\n"
     ]
    }
   ],
   "source": [
    "# Adicionar a nova coluna 'Periodo_do_Dia' baseada na coluna 'Hora_da_Ocorrencia'\n",
    "df_ocorrencias = df_ocorrencias.withColumn('Periodo_do_Dia', periodo_dia(F.hour('Hora_da_Ocorrencia')))\n",
    "\n",
    "# Mostrar o DataFrame resultante\n",
    "df_ocorrencias = df_ocorrencias.select(\"Numero_da_Ocorrencia\",\"Classificacao_da_Ocorrencia\",\"Hora_da_Ocorrencia\",\"Periodo_do_Dia\")\n",
    "df_ocorrencias.show(truncate=False)"
   ]
  },
  {
   "cell_type": "markdown",
   "metadata": {},
   "source": [
    "Pergunta 2:\n",
    "Durante a noite há mais ocorrências (18:00 a 05:00)?"
   ]
  },
  {
   "cell_type": "code",
   "execution_count": 29,
   "metadata": {},
   "outputs": [
    {
     "name": "stdout",
     "output_type": "stream",
     "text": [
      "+--------------+-----+\n",
      "|Periodo_do_Dia|Total|\n",
      "+--------------+-----+\n",
      "|dia           |5893 |\n",
      "|noite         |4032 |\n",
      "+--------------+-----+\n",
      "\n"
     ]
    }
   ],
   "source": [
    "df_periodoDia = df_ocorrencias.groupBy(\"Periodo_do_Dia\").agg(F.count(F.col(\"Periodo_do_Dia\")).alias(\"Total\"))\n",
    "df_periodoDia.filter((F.col(\"Periodo_do_Dia\") != \"NULL\")).show(truncate=False)\n",
    "#df_periodoDia.show(truncate=False)"
   ]
  }
 ],
 "metadata": {
  "kernelspec": {
   "display_name": ".venv",
   "language": "python",
   "name": "python3"
  },
  "language_info": {
   "codemirror_mode": {
    "name": "ipython",
    "version": 3
   },
   "file_extension": ".py",
   "mimetype": "text/x-python",
   "name": "python",
   "nbconvert_exporter": "python",
   "pygments_lexer": "ipython3",
   "version": "3.10.12"
  }
 },
 "nbformat": 4,
 "nbformat_minor": 2
}
