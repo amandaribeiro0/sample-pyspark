{
 "cells": [
  {
   "cell_type": "markdown",
   "metadata": {},
   "source": [
    "## Perguntas: \n",
    "1-número de fatalidades tem diminuido com os anos? *procure pelas colunas de fataliade\n",
    "\n",
    "2-durante a noite há mais ocorrências (18:00 a 05:00)?\n",
    "\n",
    "3-algumas regiões tem mais ocorrências que outras?\n",
    "\n",
    "4-Verificar em quantas cidades já aconteceram ocorrências?\n",
    "\n",
    "5-alguns operadores têm mais ocorrências que outros?"
   ]
  },
  {
   "cell_type": "code",
   "execution_count": null,
   "metadata": {},
   "outputs": [],
   "source": [
    "pip install pyspark"
   ]
  },
  {
   "cell_type": "code",
   "execution_count": null,
   "metadata": {},
   "outputs": [],
   "source": [
    "from pyspark.sql import SparkSession\n",
    "from pyspark.sql import functions as F\n",
    "from pyspark.sql.functions import col, when, hour\n",
    "spark = SparkSession.builder.appName(\"MeuApp\").getOrCreate()"
   ]
  },
  {
   "cell_type": "code",
   "execution_count": null,
   "metadata": {},
   "outputs": [],
   "source": [
    "df_ocorrencias = spark.read.option(\"delimiter\", \";\").option(\"header\", True).csv(\"ocorrencia.csv\")\n",
    "df_ocorrencias.show(truncate=False)"
   ]
  },
  {
   "cell_type": "code",
   "execution_count": null,
   "metadata": {},
   "outputs": [],
   "source": [
    "df_municipios = spark.read.option(\"delimiter\", \",\").option(\"header\", True).csv(\"municipios.csv\")\n",
    "df_municipios.show(truncate=False)"
   ]
  },
  {
   "cell_type": "code",
   "execution_count": null,
   "metadata": {},
   "outputs": [],
   "source": [
    "df_estados = spark.read.option(\"delimiter\",\",\").option(\"header\",True).csv(\"estados.csv\")\n",
    "df_estados.show(truncate=False, n=50)"
   ]
  },
  {
   "cell_type": "markdown",
   "metadata": {},
   "source": [
    "### 1-número de fatalidades tem diminuido com os anos? *procure pelas colunas de fataliade\n"
   ]
  },
  {
   "cell_type": "code",
   "execution_count": null,
   "metadata": {},
   "outputs": [],
   "source": [
    "\n",
    "# Converta a coluna Data_da_Ocorrencia para o tipo Date\n",
    "df_ocorrencias = df_ocorrencias.withColumn(\"Data_da_Ocorrencia\", F.to_date(df_ocorrencias[\"Data_da_Ocorrencia\"], \"dd/MM/yyyy\"))\n",
    "\n",
    "# Extraia o ano da coluna Data_da_Ocorrencia\n",
    "df_ocorrencias = df_ocorrencias.withColumn(\"Ano\", F.year(\"Data_da_Ocorrencia\"))\n",
    "\n",
    "# Calcule o número total de fatalidades por ano\n",
    "fatalidades_por_ano = df_ocorrencias.groupBy(\"Ano\").agg(\n",
    "    (F.sum(\"Lesoes_Fatais_Tripulantes\") + F.sum(\"Lesoes_Fatais_Passageiros\") + F.sum(\"Lesoes_Fatais_Terceiros\")).alias(\"Total_Fatalidades\")\n",
    ")\n",
    "\n",
    "# Ordene os resultados por ano\n",
    "fatalidades_por_ano = fatalidades_por_ano.orderBy(F.desc(\"Ano\"))\n",
    "\n",
    "# Mostre os resultados\n",
    "fatalidades_por_ano.show(n=50)\n",
    "\n"
   ]
  },
  {
   "cell_type": "markdown",
   "metadata": {},
   "source": [
    "### 2 - Durante a noite há mais ocorrências (18:00 a 05:00)?"
   ]
  },
  {
   "cell_type": "code",
   "execution_count": null,
   "metadata": {},
   "outputs": [],
   "source": [
    "# Definir uma função que verifica o período do dia\n",
    "def periodo_dia(hora_col):\n",
    "    return F.when(\n",
    "        hora_col.isNull(), F.lit(None)\n",
    "    ).when(\n",
    "        (hora_col >= 18) | (hora_col < 5), F.lit('noite')\n",
    "    ).otherwise(F.lit('dia'))"
   ]
  },
  {
   "cell_type": "code",
   "execution_count": null,
   "metadata": {},
   "outputs": [],
   "source": [
    "# Adicionar a nova coluna 'Periodo_do_Dia' baseada na coluna 'Hora_da_Ocorrencia'\n",
    "df_ocorrencias = df_ocorrencias.withColumn('Periodo_do_Dia', periodo_dia(F.hour('Hora_da_Ocorrencia')))\n",
    "\n",
    "# Mostrar o DataFrame resultante\n",
    "#df_ocorrencias = df_ocorrencias.select(\"Numero_da_Ocorrencia\",\"Classificacao_da_Ocorrencia\",\"Hora_da_Ocorrencia\",\"Periodo_do_Dia\")\n",
    "df_ocorrencias.show(truncate=False)"
   ]
  },
  {
   "cell_type": "code",
   "execution_count": null,
   "metadata": {},
   "outputs": [],
   "source": [
    "df_periodoDia = df_ocorrencias.groupBy(\"Periodo_do_Dia\").agg(F.count(F.col(\"Periodo_do_Dia\")).alias(\"Total\"))\n",
    "df_periodoDia.filter((F.col(\"Periodo_do_Dia\") != \"NULL\")).show(truncate=False)\n",
    "#df_periodoDia.show(truncate=False)"
   ]
  },
  {
   "cell_type": "markdown",
   "metadata": {},
   "source": [
    "### 3 - Algumas regiões tem mais ocorrências que outras?\n"
   ]
  },
  {
   "cell_type": "code",
   "execution_count": null,
   "metadata": {},
   "outputs": [],
   "source": [
    "\n",
    "# Realizar o join entre df_ocorrencias e df_regioes baseado na coluna \"Regiao\"\n",
    "df_joined_regioes = df_ocorrencias.join(df_estados, \"Regiao\", \"inner\")\n",
    "\n",
    "# Agora, realizar a agregação no DataFrame resultante do join\n",
    "df_regioes =  df_joined_regioes.groupBy(\"Regiao\").agg(F.count(F.col(\"Regiao\")).alias(\"Qtd_ocorrencias\")).orderBy(F.desc(\"Qtd_ocorrencias\"))\n",
    "\n",
    "# Exibir o resultado\n",
    "df_regioes.show()\n"
   ]
  },
  {
   "cell_type": "markdown",
   "metadata": {},
   "source": [
    "### 4 - Verificar em quantas cidades já aconteceram ocorrências?"
   ]
  },
  {
   "cell_type": "code",
   "execution_count": null,
   "metadata": {},
   "outputs": [],
   "source": [
    "\n",
    "# Realizar a junção dos DataFrames\n",
    "# Utilizamos o método join para combinar os dois DataFrames com base em uma chave comum.\n",
    "# Aqui, estamos juntando as tabelas onde a coluna 'Municipio' no DataFrame df_ocorrencias \n",
    "# corresponde à coluna 'nome' no DataFrame df_municipios.\n",
    "# O parâmetro how='inner' especifica que queremos uma junção interna, \n",
    "# ou seja, apenas as linhas com correspondência em ambas as tabelas serão mantidas.\n",
    "merged_df = df_ocorrencias.join(df_municipios, df_ocorrencias.Municipio == df_municipios.nome, how='inner')\n",
    "\n",
    "# Contar o número de municípios distintos onde ocorreram ocorrências\n",
    "# Usamos select para selecionar a coluna 'Municipio' do DataFrame resultante da junção.\n",
    "# O método distinct() remove duplicatas, de modo que cada município apareça apenas uma vez.\n",
    "# Finalmente, count() conta o número de linhas distintas, o que nos dá o número de municípios únicos.\n",
    "num_cidades_com_ocorrencias = merged_df.select(\"Municipio\").distinct().count()\n",
    "\n",
    "# Imprimimos o número de cidades onde ocorreram as ocorrências.\n",
    "print(f\"Ocorrências já aconteceram em {num_cidades_com_ocorrencias} cidades.\")"
   ]
  },
  {
   "cell_type": "markdown",
   "metadata": {},
   "source": [
    "### 5 - alguns operadores têm mais ocorrências que outros?"
   ]
  },
  {
   "cell_type": "code",
   "execution_count": null,
   "metadata": {},
   "outputs": [],
   "source": [
    "df_operadores = df_ocorrencias.groupBy(\"Operador_Padronizado\").agg(F.count(F.col(\"Operador_Padronizado\")).alias(\"Qtd\")).orderBy(F.desc(\"Qtd\"))\n",
    "\n",
    "df_operadores.show(truncate=False, n=500)"
   ]
  }
 ],
 "metadata": {
  "kernelspec": {
   "display_name": ".venv",
   "language": "python",
   "name": "python3"
  },
  "language_info": {
   "codemirror_mode": {
    "name": "ipython",
    "version": 3
   },
   "file_extension": ".py",
   "mimetype": "text/x-python",
   "name": "python",
   "nbconvert_exporter": "python",
   "pygments_lexer": "ipython3",
   "version": "3.10.12"
  }
 },
 "nbformat": 4,
 "nbformat_minor": 2
}
