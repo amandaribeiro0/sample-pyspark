{
 "cells": [
  {
   "cell_type": "markdown",
   "metadata": {},
   "source": [
    "## Perguntas: \n",
    "1-número de fatalidades tem diminuido com os anos? *procure pelas colunas de fataliade\n",
    "\n",
    "2-durante a noite há mais ocorrências (18:00 a 05:00)?\n",
    "\n",
    "3-algumas regiões tem mais ocorrências que outras?\n",
    "\n",
    "4-Verificar em quantas cidades já aconteceram ocorrências?\n",
    "\n",
    "5-alguns operadores têm mais ocorrências que outros?"
   ]
  },
  {
   "cell_type": "code",
   "execution_count": null,
   "metadata": {},
   "outputs": [],
   "source": [
    "pip install pyspark"
   ]
  },
  {
   "cell_type": "code",
   "execution_count": null,
   "metadata": {},
   "outputs": [],
   "source": [
    "pip install \"dask[complete]\""
   ]
  },
  {
   "cell_type": "code",
   "execution_count": null,
   "metadata": {},
   "outputs": [],
   "source": [
    "from pyspark.sql import SparkSession\n",
    "from pyspark.sql import functions as F\n",
    "from pyspark.sql.functions import col, when, hour\n",
    "import pandas as pd\n",
    "# spark = SparkSession.builder.appName(\"MeuApp\").getOrCreate()\n",
    "spark = SparkSession.builder.appName(\"Exemplo\").config(\"spark.driver.memory\", \"4g\").config(\"spark.executor.memory\", \"4g\").getOrCreate()\n"
   ]
  },
  {
   "cell_type": "code",
   "execution_count": null,
   "metadata": {},
   "outputs": [],
   "source": [
    "#importa dado mais rápido ao frame, pelo teste equivale ao fread do R\n",
    "import dask.dataframe as dd"
   ]
  },
  {
   "cell_type": "code",
   "execution_count": null,
   "metadata": {},
   "outputs": [],
   "source": [
    "df_ocorrencias = spark.read.option(\"delimiter\", \";\").option(\"header\", True).csv(\"ocorrencia.csv\")\n",
    "df_ocorrencias.show(truncate=False)"
   ]
  },
  {
   "cell_type": "code",
   "execution_count": null,
   "metadata": {},
   "outputs": [],
   "source": [
    "df_municipios = spark.read.option(\"delimiter\", \",\").option(\"header\", True).csv(\"municipios.csv\")\n",
    "df_municipios.show(truncate=False)"
   ]
  },
  {
   "cell_type": "code",
   "execution_count": null,
   "metadata": {},
   "outputs": [],
   "source": [
    "df_estados = spark.read.option(\"delimiter\",\",\").option(\"header\",True).csv(\"estados.csv\")\n",
    "df_estados.show(truncate=False, n=50)"
   ]
  },
  {
   "cell_type": "markdown",
   "metadata": {},
   "source": [
    "Limpeza dos dados\n"
   ]
  },
  {
   "cell_type": "code",
   "execution_count": null,
   "metadata": {},
   "outputs": [],
   "source": [
    "def limpar_dataframe(df):\n",
    "    for col in df.columns:\n",
    "        if df[col].dtype == object:  # Se a coluna for do tipo object (texto)\n",
    "            df[col] = df[col] .astype(str) # converte tudo para string\n",
    "            df[col] = df[col].str.upper()  # Converte para maiúsculas\n",
    "            df[col] = df[col] .str.strip() # remove espaço em branco\n",
    "            df[col] = df[col] .str.replace(\"\\t\", \"\") # se tiver o caracter \\t remove\n",
    "            df[col] = df[col] .apply(unidecode.unidecode)\n",
    "            df[col] = df[col].str.replace('[^\\w\\s]', '', regex=True)  # Remove caracteres especiais\n",
    "\n",
    "            #df[col] = df[col].apply(lambda x: unidecode.unidecode(x) if pd.notnull(x) else \"\")  # Remove acentuações\n",
    "    return df"
   ]
  },
  {
   "cell_type": "code",
   "execution_count": null,
   "metadata": {},
   "outputs": [],
   "source": [
    "df_estados_pandas = df_estados.toPandas();\n",
    "df_ocorrencias_pandas = df_ocorrencias.toPandas();\n",
    "df_municipios_pandas = df_municipios.toPandas();"
   ]
  },
  {
   "cell_type": "code",
   "execution_count": null,
   "metadata": {},
   "outputs": [],
   "source": [
    "dfEstadoMunicipio = dd.merge(df_estados_pandas, df_municipios_pandas, on='codigo_uf')\n",
    "\n",
    "print(f\"Estado tem {len(df_estados_pandas)} linhas\")\n",
    "print(f\"Municipio tem {len(df_municipios_pandas)} linhas\")\n",
    "print(f\"Tem que ter a mesma quantidade de municipio o merge {len(dfEstadoMunicipio)} linhas\")"
   ]
  },
  {
   "cell_type": "code",
   "execution_count": null,
   "metadata": {},
   "outputs": [],
   "source": [
    "dfEstadoMunicipio = dfEstadoMunicipio.rename(\n",
    "    columns={'codigo_uf': 'CODIGO_UF',\n",
    "             'uf': 'UF',\n",
    "             'nome_e': 'NOME_ESTADO',\n",
    "             'latitude_e': 'LATITUDE_ESTADO',\n",
    "             'longitude_e': 'LONGITUDE_ESTADO',\n",
    "             'regiao': 'REGIAO',\n",
    "             'codigo_ibge': 'CODIGO_IBGE',\n",
    "             'nome_m': 'NOME_CIDADE',\n",
    "             'latitude_m': 'LATITUDE_CIDADE',\n",
    "             'longitude_m': 'LONGITUDE_CIDADE',\n",
    "             'capital': 'CAPITAL',\n",
    "             'siafi_id': 'SIAFI_ID',\n",
    "             'ddd': 'DDD',\n",
    "             'fuso_horario': 'FUSO_HORARIO'\n",
    "             }\n",
    "    )"
   ]
  },
  {
   "cell_type": "code",
   "execution_count": null,
   "metadata": {},
   "outputs": [],
   "source": [
    "dfEstadoMunicipio = limpar_dataframe(dfEstadoMunicipio)"
   ]
  },
  {
   "cell_type": "code",
   "execution_count": null,
   "metadata": {},
   "outputs": [],
   "source": [
    "\n",
    "dfEstadoMunicipio_pandas = dfEstadoMunicipio\n",
    "\n",
    "municipios_nao_presentes = df_ocorrencias_pandas[~df_ocorrencias_pandas['Municipio'].isin(dfEstadoMunicipio_pandas['NOME_CIDADE'])]\n",
    "\n",
    "print('Municípios em dfOcorrencia que não estão em dfEstadoMunicipio:')\n",
    "print(municipios_nao_presentes['Municipio'].unique())"
   ]
  },
  {
   "cell_type": "code",
   "execution_count": null,
   "metadata": {},
   "outputs": [],
   "source": [
    "df_ocorrencias_pandas['Municipio'] = df_ocorrencias_pandas['Municipio'].replace('RIO DE JANERIO', 'RIO DE JANEIRO')\n",
    "df_ocorrencias_pandas['Municipio'] = df_ocorrencias_pandas['Municipio'].replace('RIO DE  JANEIRO', 'RIO DE JANEIRO')\n",
    "df_ocorrencias_pandas['Municipio'] = df_ocorrencias_pandas['Municipio'].replace('MACAUBA', 'MACAUBAS')\n",
    "df_ocorrencias_pandas['Municipio'] = df_ocorrencias_pandas['Municipio'].replace('BOA VISTA DOS RAMOS', 'BOA VISTA DO RAMOS')\n",
    "df_ocorrencias_pandas['Municipio'] = df_ocorrencias_pandas['Municipio'].replace('FAZENDA SANTO INACIO  RS', 'ROSARIO DO SUL')\n",
    "df_ocorrencias_pandas['Municipio'] = df_ocorrencias_pandas['Municipio'].replace('BASE AEREA DE SANTOS', 'GUARUJA')\n",
    "df_ocorrencias_pandas['Municipio'] = df_ocorrencias_pandas['Municipio'].replace('PRAIA DE ENSEADA  SAO FRANCISCO DO SUL', 'SAO FRANCISCO DO SUL')\n",
    "df_ocorrencias_pandas['Municipio'] = df_ocorrencias_pandas['Municipio'].replace('ITABAPOANA', 'SAO FRANCISCO DE ITABAPOANA')\n",
    "df_ocorrencias_pandas['Municipio'] = df_ocorrencias_pandas['Municipio'].replace('SANTANA DO PARNAIBA', 'SANTANA DE PARNAIBA')\n",
    "df_ocorrencias_pandas['Municipio'] = df_ocorrencias_pandas['Municipio'].replace('ESPINGARDA', 'NUM DAAAA')\n"
   ]
  },
  {
   "cell_type": "code",
   "execution_count": null,
   "metadata": {},
   "outputs": [],
   "source": [
    "df_ocorrencias_pandas['Municipio'] = df_ocorrencias_pandas['Municipio'].replace('Erradas','Corrigidas')\n",
    "df_ocorrencias_pandas['Municipio'] = df_ocorrencias_pandas['Municipio'].replace('NAN','NA')\n",
    "df_ocorrencias_pandas['Municipio'] = df_ocorrencias_pandas['Municipio'].replace('BOA VISTA DOS RAMOS','BOA VISTA DOS RAMOS')\n",
    "df_ocorrencias_pandas['Municipio'] = df_ocorrencias_pandas['Municipio'].replace('PRAIA DE ENSEADA  SAO FRANCISCO DO SUL','SAO FRANCISCO DO SUL')\n",
    "df_ocorrencias_pandas['Municipio'] = df_ocorrencias_pandas['Municipio'].replace('SANTANA DO PARNAIBA','SANTANA DE PARNAIBA')\n",
    "df_ocorrencias_pandas['Municipio'] = df_ocorrencias_pandas['Municipio'].replace('FORA DO BRASIL','FORA DO BRASIL')\n",
    "df_ocorrencias_pandas['Municipio'] = df_ocorrencias_pandas['Municipio'].replace('CUARI','NA')\n",
    "df_ocorrencias_pandas['Municipio'] = df_ocorrencias_pandas['Municipio'].replace('CAMPPINAS','CAMPINAS')\n",
    "df_ocorrencias_pandas['Municipio'] = df_ocorrencias_pandas['Municipio'].replace('FAZENDA FORTALEZA DE SANTA TEREZINHA','JEQUITIAI')\n",
    "df_ocorrencias_pandas['Municipio'] = df_ocorrencias_pandas['Municipio'].replace('ITAPORANGA D AJUDA','ITAPORANGA D AJUDA')\n",
    "df_ocorrencias_pandas['Municipio'] = df_ocorrencias_pandas['Municipio'].replace('FAZENDA NOVA ESPERANCA BALSAS','BALSAS')\n",
    "df_ocorrencias_pandas['Municipio'] = df_ocorrencias_pandas['Municipio'].replace('SAO JOAO DEL REY','SAO JOAO DEL REI')\n",
    "df_ocorrencias_pandas['Municipio'] = df_ocorrencias_pandas['Municipio'].replace('ESPINGARDA','NA')\n",
    "df_ocorrencias_pandas['Municipio'] = df_ocorrencias_pandas['Municipio'].replace('BRASILIADF','BRASILIA')\n",
    "df_ocorrencias_pandas['Municipio'] = df_ocorrencias_pandas['Municipio'].replace('SANTA CRUZ DAS PALMAS','SANTA CRUZ DAS PALMEIRAS')\n",
    "df_ocorrencias_pandas['Municipio'] = df_ocorrencias_pandas['Municipio'].replace('SANTA TEREZINHA DE JESUS','NA')\n",
    "df_ocorrencias_pandas['Municipio'] = df_ocorrencias_pandas['Municipio'].replace('VILA BELA DA SANTISSIMA','VILA BELA DA SANTISSIMA TRINDADE')\n",
    "df_ocorrencias_pandas['Municipio'] = df_ocorrencias_pandas['Municipio'].replace('BRAISLANDIA','BRASILANDIA ')\n",
    "df_ocorrencias_pandas['Municipio'] = df_ocorrencias_pandas['Municipio'].replace('SANTA VITORIA DO PAMAR','SANTA VITORIA DO PALMAR')\n",
    "df_ocorrencias_pandas['Municipio'] = df_ocorrencias_pandas['Municipio'].replace('PARAUABEBAS','PARAUAPEBAS')\n",
    "df_ocorrencias_pandas['Municipio'] = df_ocorrencias_pandas['Municipio'].replace('HANGAR LIDER AVIACAO','NA')\n",
    "df_ocorrencias_pandas['Municipio'] = df_ocorrencias_pandas['Municipio'].replace('ASSIS CHATEAUBRIAN','ASSIS CHATEAUBRIAND')\n",
    "df_ocorrencias_pandas['Municipio'] = df_ocorrencias_pandas['Municipio'].replace('LUIS EDUARDO MAGAL','LUIS EDUARDO MAGALHAES')\n",
    "df_ocorrencias_pandas['Municipio'] = df_ocorrencias_pandas['Municipio'].replace('TRAJANO DE MORAIS','TRAJANO DE MORAES')\n",
    "df_ocorrencias_pandas['Municipio'] = df_ocorrencias_pandas['Municipio'].replace('AEROPORTO DE GUARULHOS','GUARULHOS')\n",
    "df_ocorrencias_pandas['Municipio'] = df_ocorrencias_pandas['Municipio'].replace('CAMOINAS','CAMPINAS')\n",
    "df_ocorrencias_pandas['Municipio'] = df_ocorrencias_pandas['Municipio'].replace('AEROPORTO DE SAO JOSE DOS CAMPOS','SAO JOSE DOS CAMPOS')\n",
    "df_ocorrencias_pandas['Municipio'] = df_ocorrencias_pandas['Municipio'].replace('SANTA TEREZINHA DO ITAIPU','SANTA TEREZINHA DE ITAIPU')\n",
    "df_ocorrencias_pandas['Municipio'] = df_ocorrencias_pandas['Municipio'].replace('ESTADOS UNIDOS','NA')\n",
    "df_ocorrencias_pandas['Municipio'] = df_ocorrencias_pandas['Municipio'].replace('AEROPORTO DE KIMBERLEY','NA')\n",
    "df_ocorrencias_pandas['Municipio'] = df_ocorrencias_pandas['Municipio'].replace('FAZENDA BOA VISTA QUIRINOPOLIS','QUIRINOPOLIS')\n",
    "df_ocorrencias_pandas['Municipio'] = df_ocorrencias_pandas['Municipio'].replace('BUENOS AIRES ARGENTINA','NA')\n",
    "df_ocorrencias_pandas['Municipio'] = df_ocorrencias_pandas['Municipio'].replace('BAIRRO MULTIRAO I','NA')\n",
    "df_ocorrencias_pandas['Municipio'] = df_ocorrencias_pandas['Municipio'].replace('KUALA LUMPUR MALASIA','NA')\n",
    "df_ocorrencias_pandas['Municipio'] = df_ocorrencias_pandas['Municipio'].replace('232548S','NA')\n",
    "df_ocorrencias_pandas['Municipio'] = df_ocorrencias_pandas['Municipio'].replace('SITIO SAO JOSE ZONA RURAL DE GLORIA DOESTE','GLORIA D OESTE')\n",
    "df_ocorrencias_pandas['Municipio'] = df_ocorrencias_pandas['Municipio'].replace('FAZENDA FLORESTA BRASNORTE','BRASNORTE')\n",
    "df_ocorrencias_pandas['Municipio'] = df_ocorrencias_pandas['Municipio'].replace('PALIMIU','ALTO ALEGRE')\n",
    "df_ocorrencias_pandas['Municipio'] = df_ocorrencias_pandas['Municipio'].replace('CAMPINA GRANDE ','CAMPINA GRANDE')\n",
    "df_ocorrencias_pandas['Municipio'] = df_ocorrencias_pandas['Municipio'].replace('RIO DE  JANEIRO','RIO DE JANEIRO')\n",
    "df_ocorrencias_pandas['Municipio'] = df_ocorrencias_pandas['Municipio'].replace('RIO DE JANERIO','RIO DE JANEIRO')\n",
    "df_ocorrencias_pandas['Municipio'] = df_ocorrencias_pandas['Municipio'].replace('FAZENDA SANTO INACIO  RS','SAO BORJA')\n",
    "df_ocorrencias_pandas['Municipio'] = df_ocorrencias_pandas['Municipio'].replace('ITABAPOANA','Barra do Itabapoana')\n",
    "df_ocorrencias_pandas['Municipio'] = df_ocorrencias_pandas['Municipio'].replace('SANTO ANTONIO DE LEVERGER','SANTO ANTONIO DE LEVERGER')\n",
    "df_ocorrencias_pandas['Municipio'] = df_ocorrencias_pandas['Municipio'].replace('COUTO DE MAGALHAES','COUTO DE MAGALHAES')\n",
    "df_ocorrencias_pandas['Municipio'] = df_ocorrencias_pandas['Municipio'].replace('SANTAEM','SANTAREM')\n",
    "df_ocorrencias_pandas['Municipio'] = df_ocorrencias_pandas['Municipio'].replace('FAZENDA SAO FRANCISCO','NA')\n",
    "df_ocorrencias_pandas['Municipio'] = df_ocorrencias_pandas['Municipio'].replace('CAMPO DE MARTE','SÃO PAULO')\n",
    "df_ocorrencias_pandas['Municipio'] = df_ocorrencias_pandas['Municipio'].replace('PONTES DE LACERDA','PONTES E LACERDA')\n",
    "df_ocorrencias_pandas['Municipio'] = df_ocorrencias_pandas['Municipio'].replace('FAZENDA NOVA AURORA CAROLINA','CAROLINA')\n",
    "df_ocorrencias_pandas['Municipio'] = df_ocorrencias_pandas['Municipio'].replace('SERRRANOPOLIS','SERRANOPOLIS')\n",
    "df_ocorrencias_pandas['Municipio'] = df_ocorrencias_pandas['Municipio'].replace('AREA RURAL','NA')\n",
    "df_ocorrencias_pandas['Municipio'] = df_ocorrencias_pandas['Municipio'].replace('CAMPOS DOS GOITACAZES','CAMPOS DOS GOYTACAZES')\n",
    "df_ocorrencias_pandas['Municipio'] = df_ocorrencias_pandas['Municipio'].replace('CHAPADA DOS GUIMA','CHAPADA DOS GUIMARAES')\n",
    "df_ocorrencias_pandas['Municipio'] = df_ocorrencias_pandas['Municipio'].replace('SAO JOSE DO PINHAL','SANTO ANTONIO DO PINHAL')\n",
    "df_ocorrencias_pandas['Municipio'] = df_ocorrencias_pandas['Municipio'].replace('RECUFE','RECIFE')\n",
    "df_ocorrencias_pandas['Municipio'] = df_ocorrencias_pandas['Municipio'].replace('JERICOACOARA','JERICOACOARA')\n",
    "df_ocorrencias_pandas['Municipio'] = df_ocorrencias_pandas['Municipio'].replace('PARATI','PARATI')\n",
    "df_ocorrencias_pandas['Municipio'] = df_ocorrencias_pandas['Municipio'].replace('SAO JOSE DOS CAMOPOS','SAO JOSE DOS CAMPOS')\n",
    "df_ocorrencias_pandas['Municipio'] = df_ocorrencias_pandas['Municipio'].replace('BELO HORIZONE','BELO HORIZONTE')\n",
    "df_ocorrencias_pandas['Municipio'] = df_ocorrencias_pandas['Municipio'].replace('BLUMENAL','BLUMENAL')\n",
    "df_ocorrencias_pandas['Municipio'] = df_ocorrencias_pandas['Municipio'].replace('MIGRANTINOPOLIS','MIGRANTINOPOLIS')\n",
    "df_ocorrencias_pandas['Municipio'] = df_ocorrencias_pandas['Municipio'].replace('MOGIMIRIM','MOGI MIRIM')\n",
    "df_ocorrencias_pandas['Municipio'] = df_ocorrencias_pandas['Municipio'].replace('FAZENDA TRES FIGUEIRAS','IMBE')\n",
    "df_ocorrencias_pandas['Municipio'] = df_ocorrencias_pandas['Municipio'].replace('ERICO  AMAJARI','AMAJARI')\n",
    "df_ocorrencias_pandas['Municipio'] = df_ocorrencias_pandas['Municipio'].replace('CAMPO GRNADE','CAMPO GRANDE')\n",
    "df_ocorrencias_pandas['Municipio'] = df_ocorrencias_pandas['Municipio'].replace('CAMPOS','NA')\n",
    "df_ocorrencias_pandas['Municipio'] = df_ocorrencias_pandas['Municipio'].replace('CANCUN MEXICO','NA')\n",
    "df_ocorrencias_pandas['Municipio'] = df_ocorrencias_pandas['Municipio'].replace('GUANAJUATO MEXICO','NA')\n",
    "df_ocorrencias_pandas['Municipio'] = df_ocorrencias_pandas['Municipio'].replace('CAIXIAS DO SUL','CAXIAS DO SUL')\n",
    "df_ocorrencias_pandas['Municipio'] = df_ocorrencias_pandas['Municipio'].replace('CIDADE DO MEXICO MEXICO','NUL')\n",
    "df_ocorrencias_pandas['Municipio'] = df_ocorrencias_pandas['Municipio'].replace('PORTO ALEGRE ','PORTO ALEGRE')\n",
    "df_ocorrencias_pandas['Municipio'] = df_ocorrencias_pandas['Municipio'].replace('CIDADE DE UNA','NA')\n",
    "df_ocorrencias_pandas['Municipio'] = df_ocorrencias_pandas['Municipio'].replace('CHITOSE JAPAO','NA')\n",
    "df_ocorrencias_pandas['Municipio'] = df_ocorrencias_pandas['Municipio'].replace('SILAO GUANAJUATO MEXICO','NA')\n",
    "df_ocorrencias_pandas['Municipio'] = df_ocorrencias_pandas['Municipio'].replace('LISBOA PORTUGAL','NA')\n",
    "df_ocorrencias_pandas['Municipio'] = df_ocorrencias_pandas['Municipio'].replace('FAZENDA SANTA BARBARA BOM JESUS DE GOIAS','BOM JESUS DE GOIAS')\n",
    "df_ocorrencias_pandas['Municipio'] = df_ocorrencias_pandas['Municipio'].replace('FOZ DO IGUAC','FOZ DO IGUACU')\n",
    "df_ocorrencias_pandas['Municipio'] = df_ocorrencias_pandas['Municipio'].replace('CARLANDIA','CARLANDIA')\n",
    "df_ocorrencias_pandas['Municipio'] = df_ocorrencias_pandas['Municipio'].replace('MACAUBA','MACAUBA')\n",
    "df_ocorrencias_pandas['Municipio'] = df_ocorrencias_pandas['Municipio'].replace('BASE AEREA DE SANTOS','SANTOS')\n",
    "df_ocorrencias_pandas['Municipio'] = df_ocorrencias_pandas['Municipio'].replace('PEDRO JUAN CABALLERO','NA')\n",
    "df_ocorrencias_pandas['Municipio'] = df_ocorrencias_pandas['Municipio'].replace('NOVA ARIPUANA','NOVA ARIPUANA')\n",
    "df_ocorrencias_pandas['Municipio'] = df_ocorrencias_pandas['Municipio'].replace('PORTO ESPERIDAO','PORTO ESPERIDIAO')\n",
    "df_ocorrencias_pandas['Municipio'] = df_ocorrencias_pandas['Municipio'].replace('NAO IDENTIFICADA','NA')\n",
    "df_ocorrencias_pandas['Municipio'] = df_ocorrencias_pandas['Municipio'].replace('LONDRINA PR','LONDRINA')\n",
    "df_ocorrencias_pandas['Municipio'] = df_ocorrencias_pandas['Municipio'].replace('GAUIRA','GUAIRA')\n",
    "df_ocorrencias_pandas['Municipio'] = df_ocorrencias_pandas['Municipio'].replace('FAZENDA VIGOLO','NA')\n",
    "df_ocorrencias_pandas['Municipio'] = df_ocorrencias_pandas['Municipio'].replace('CAMPO DOS GOYTACAZES','CAMPOS DOS GOYTACAZES')\n",
    "df_ocorrencias_pandas['Municipio'] = df_ocorrencias_pandas['Municipio'].replace('MIAMI','NA')\n",
    "df_ocorrencias_pandas['Municipio'] = df_ocorrencias_pandas['Municipio'].replace('LISBOAPOTUGAL','NA')\n",
    "df_ocorrencias_pandas['Municipio'] = df_ocorrencias_pandas['Municipio'].replace('CAPE TOWN','NA')\n",
    "df_ocorrencias_pandas['Municipio'] = df_ocorrencias_pandas['Municipio'].replace('SLAVADOR','SALVADOR')\n",
    "df_ocorrencias_pandas['Municipio'] = df_ocorrencias_pandas['Municipio'].replace('MINAS GERAIS','BELO HORIZONTE')\n",
    "df_ocorrencias_pandas['Municipio'] = df_ocorrencias_pandas['Municipio'].replace('CURITBA','CURITIBA')\n",
    "df_ocorrencias_pandas['Municipio'] = df_ocorrencias_pandas['Municipio'].replace('FLOARIANOPOLIS','FLORIANOPOLIS')\n",
    "df_ocorrencias_pandas['Municipio'] = df_ocorrencias_pandas['Municipio'].replace('CAMPOS DOS GOYTACAS','CAMPOS DOS GOYTACAZES')\n",
    "df_ocorrencias_pandas['Municipio'] = df_ocorrencias_pandas['Municipio'].replace('CONSELHEIRO LAFAYETE','CONSELHEIRO LAFAIETE')\n",
    "df_ocorrencias_pandas['Municipio'] = df_ocorrencias_pandas['Municipio'].replace('CAMPO MORAO','CAMPO MOURAO')\n",
    "df_ocorrencias_pandas['Municipio'] = df_ocorrencias_pandas['Municipio'].replace('FAZENDA INHUMAS DO CHAPADAO MG','UBERABA')\n",
    "df_ocorrencias_pandas['Municipio'] = df_ocorrencias_pandas['Municipio'].replace('CAMPOS DOS GOYTACASES','CAMPOS DOS GOYTACAZES')\n",
    "df_ocorrencias_pandas['Municipio'] = df_ocorrencias_pandas['Municipio'].replace('MADRID','NA')\n",
    "df_ocorrencias_pandas['Municipio'] = df_ocorrencias_pandas['Municipio'].replace('FAZENDA UBIRATA','NA')\n",
    "df_ocorrencias_pandas['Municipio'] = df_ocorrencias_pandas['Municipio'].replace('CURITUBA','CURITIBA')\n",
    "df_ocorrencias_pandas['Municipio'] = df_ocorrencias_pandas['Municipio'].replace('AGUASCALIENTES MEXICO','NA')\n",
    "df_ocorrencias_pandas['Municipio'] = df_ocorrencias_pandas['Municipio'].replace('MONTEVIDEO','NA')\n",
    "df_ocorrencias_pandas['Municipio'] = df_ocorrencias_pandas['Municipio'].replace('1254','NA')\n",
    "df_ocorrencias_pandas['Municipio'] = df_ocorrencias_pandas['Municipio'].replace('PORO VELHO','PORTO VELHO')\n",
    "df_ocorrencias_pandas['Municipio'] = df_ocorrencias_pandas['Municipio'].replace('BIRITIBA MIRIM','NA')\n",
    "df_ocorrencias_pandas['Municipio'] = df_ocorrencias_pandas['Municipio'].replace('LONGITUDE HISTORICO','NA')\n",
    "df_ocorrencias_pandas['Municipio'] = df_ocorrencias_pandas['Municipio'].replace('MAR DEL PLATA ARGENTINA','NA')\n",
    "df_ocorrencias_pandas['Municipio'] = df_ocorrencias_pandas['Municipio'].replace('ARGENTINA','NA')\n",
    "df_ocorrencias_pandas['Municipio'] = df_ocorrencias_pandas['Municipio'].replace('CURUTIBA','CURITIBA')\n",
    "df_ocorrencias_pandas['Municipio'] = df_ocorrencias_pandas['Municipio'].replace('SENEGAL AFRICA','NA')\n",
    "df_ocorrencias_pandas['Municipio'] = df_ocorrencias_pandas['Municipio'].replace('SAO JOSE DOS PINHARES','SAO JOSE DOS PINHAIS')\n",
    "df_ocorrencias_pandas['Municipio'] = df_ocorrencias_pandas['Municipio'].replace('GUARULHOSS','GUARULHOS')\n",
    "df_ocorrencias_pandas['Municipio'] = df_ocorrencias_pandas['Municipio'].replace('JACAREPAGUA','JACAREPAGUA')\n",
    "df_ocorrencias_pandas['Municipio'] = df_ocorrencias_pandas['Municipio'].replace('MISSIONESARG','NA')\n",
    "df_ocorrencias_pandas['Municipio'] = df_ocorrencias_pandas['Municipio'].replace('TUPANCI','NA')\n",
    "df_ocorrencias_pandas['Municipio'] = df_ocorrencias_pandas['Municipio'].replace('ALIANCA DOS TOCANTINS','ALIANCA DO TOCANTINS')\n",
    "df_ocorrencias_pandas['Municipio'] = df_ocorrencias_pandas['Municipio'].replace('CAPAO DO CANOA','CAPAO DA CANOA')\n",
    "df_ocorrencias_pandas['Municipio'] = df_ocorrencias_pandas['Municipio'].replace('YARA','NA')\n",
    "df_ocorrencias_pandas['Municipio'] = df_ocorrencias_pandas['Municipio'].replace('TANGARA DAQ SERRA','TANGARA DA SERRA')\n",
    "df_ocorrencias_pandas['Municipio'] = df_ocorrencias_pandas['Municipio'].replace('GUARILHOS','GUARULHOS')\n",
    "df_ocorrencias_pandas['Municipio'] = df_ocorrencias_pandas['Municipio'].replace('CASIMIRO E ABREU','CASIMIRO DE ABREU')\n",
    "df_ocorrencias_pandas['Municipio'] = df_ocorrencias_pandas['Municipio'].replace('PARATININGA','PIRATININGA')\n",
    "df_ocorrencias_pandas['Municipio'] = df_ocorrencias_pandas['Municipio'].replace('GAURULHOS','GUARULHOS')\n",
    "df_ocorrencias_pandas['Municipio'] = df_ocorrencias_pandas['Municipio'].replace('GRAMADINHO','RIO VERDE')\n",
    "df_ocorrencias_pandas['Municipio'] = df_ocorrencias_pandas['Municipio'].replace('URBERLANDIA','UBERLANDIA')\n",
    "df_ocorrencias_pandas['Municipio'] = df_ocorrencias_pandas['Municipio'].replace('SOMALIA AFRICA','NA')\n",
    "df_ocorrencias_pandas['Municipio'] = df_ocorrencias_pandas['Municipio'].replace('MORELOS MEXICO','NA')\n",
    "df_ocorrencias_pandas['Municipio'] = df_ocorrencias_pandas['Municipio'].replace('PARIS','NA')\n",
    "df_ocorrencias_pandas['Municipio'] = df_ocorrencias_pandas['Municipio'].replace('MANUEL URBANO','MANOEL URBANO')\n",
    "df_ocorrencias_pandas['Municipio'] = df_ocorrencias_pandas['Municipio'].replace('DESCONHECIDO','NA')\n",
    "df_ocorrencias_pandas['Municipio'] = df_ocorrencias_pandas['Municipio'].replace('SA PAULO','SAO PAULO')\n",
    "df_ocorrencias_pandas['Municipio'] = df_ocorrencias_pandas['Municipio'].replace('AGUAS CLARAS','BRASILIA')\n",
    "df_ocorrencias_pandas['Municipio'] = df_ocorrencias_pandas['Municipio'].replace('CAMPO GRANDEMS','CAMPO GRANDE')\n",
    "df_ocorrencias_pandas['Municipio'] = df_ocorrencias_pandas['Municipio'].replace('EXTERIOR','NA')\n"
   ]
  },
  {
   "cell_type": "code",
   "execution_count": null,
   "metadata": {},
   "outputs": [],
   "source": [
    "df_ocorrencias_pandas['Municipio'] = df_ocorrencias_pandas['Municipio'].replace('MACAUBA','MACAUBAS')\n",
    "df_ocorrencias_pandas['Municipio'] = df_ocorrencias_pandas['Municipio'].replace('SANTO ANTONIO DE LEVERGER','SANTO ANTONIO DO LEVERGER')\n",
    "df_ocorrencias_pandas['Municipio'] = df_ocorrencias_pandas['Municipio'].replace('NOVO ARIPUANA','NOVO ARIPUANA')\n",
    "df_ocorrencias_pandas['Municipio'] = df_ocorrencias_pandas['Municipio'].replace('ITAPORANGA D AJUDA','ITAPORANGA D AJUDA')\n",
    "df_ocorrencias_pandas['Municipio'] = df_ocorrencias_pandas['Municipio'].replace('MIGRANTINOPOLIS','NOVO HORIZONTE DO OESTE')\n",
    "df_ocorrencias_pandas['Municipio'] = df_ocorrencias_pandas['Municipio'].replace('BOA VISTA DOS RAMOS','BOA VISTA DOS RAMOS')\n",
    "df_ocorrencias_pandas['Municipio'] = df_ocorrencias_pandas['Municipio'].replace('FORA DO BRASIL','NA')\n",
    "df_ocorrencias_pandas['Municipio'] = df_ocorrencias_pandas['Municipio'].replace('JACAREPAGUA','RIO DE JANEIRO')\n",
    "df_ocorrencias_pandas['Municipio'] = df_ocorrencias_pandas['Municipio'].replace('BRASILANDIA ','SAO PAULO')\n",
    "df_ocorrencias_pandas['Municipio'] = df_ocorrencias_pandas['Municipio'].replace('NUL','NA')\n",
    "df_ocorrencias_pandas['Municipio'] = df_ocorrencias_pandas['Municipio'].replace('Barra do Itabapoana','SAO FRANCISCO DE ITABAPOANA')\n",
    "df_ocorrencias_pandas['Municipio'] = df_ocorrencias_pandas['Municipio'].replace('COUTO DE MAGALHAES','COUTO DE MAGALHAES DE MINAS')\n",
    "df_ocorrencias_pandas['Municipio'] = df_ocorrencias_pandas['Municipio'].replace('JEQUITIAI','JEQUITIBA')\n",
    "df_ocorrencias_pandas['Municipio'] = df_ocorrencias_pandas['Municipio'].replace('JERICOACOARA','JIJOCA DE JERICOACOARA')\n",
    "df_ocorrencias_pandas['Municipio'] = df_ocorrencias_pandas['Municipio'].replace('GLORIA D OESTE','GLORIA DOESTE')\n",
    "df_ocorrencias_pandas['Municipio'] = df_ocorrencias_pandas['Municipio'].replace('SÃO PAULO','SAO PAULO')\n",
    "df_ocorrencias_pandas['Municipio'] = df_ocorrencias_pandas['Municipio'].replace('PARATI','PARATY')\n",
    "df_ocorrencias_pandas['Municipio'] = df_ocorrencias_pandas['Municipio'].replace('224836S','NA')\n",
    "df_ocorrencias_pandas['Municipio'] = df_ocorrencias_pandas['Municipio'].replace('BLUMENAL','BLUMENAU')\n",
    "df_ocorrencias_pandas['Municipio'] = df_ocorrencias_pandas['Municipio'].replace('BOA VISTA DOS RAMOS','BOA VISTA DO RAMOS')\n",
    "df_ocorrencias_pandas['Municipio'] = df_ocorrencias_pandas['Municipio'].replace('NOVA ARIPUANA','NOVO ARIPUANA')\n",
    "df_ocorrencias_pandas['Municipio'] = df_ocorrencias_pandas['Municipio'].replace('ITAPORANGA D AJUDA','ITAPORANGA DAJUDA')\n",
    "df_ocorrencias_pandas['Municipio'] = df_ocorrencias_pandas['Municipio'].replace('CARLANDIA','INDIARA')\n",
    "df_ocorrencias_pandas['Municipio'] = df_ocorrencias_pandas['Municipio'].replace('NUM DAAAA','NA')\n"
   ]
  },
  {
   "cell_type": "code",
   "execution_count": null,
   "metadata": {},
   "outputs": [],
   "source": [
    "# Convertendo os DataFrames pandas para DataFrames PySpark\n",
    "df_estados = spark.createDataFrame(df_estados_pandas)\n",
    "df_ocorrencias= spark.createDataFrame(df_ocorrencias_pandas)\n",
    "df_municipios = spark.createDataFrame(df_municipios_pandas)\n"
   ]
  },
  {
   "cell_type": "markdown",
   "metadata": {},
   "source": [
    "### 1-número de fatalidades tem diminuido com os anos? *procure pelas colunas de fataliade\n"
   ]
  },
  {
   "cell_type": "code",
   "execution_count": null,
   "metadata": {},
   "outputs": [],
   "source": [
    "\n",
    "# Converta a coluna Data_da_Ocorrencia para o tipo Date\n",
    "df_ocorrencias = df_ocorrencias.withColumn(\"Data_da_Ocorrencia\", F.to_date(df_ocorrencias[\"Data_da_Ocorrencia\"], \"dd/MM/yyyy\"))\n",
    "\n",
    "# Extraia o ano da coluna Data_da_Ocorrencia\n",
    "df_ocorrencias = df_ocorrencias.withColumn(\"Ano\", F.year(\"Data_da_Ocorrencia\"))\n",
    "\n",
    "# Calcule o número total de fatalidades por ano\n",
    "fatalidades_por_ano = df_ocorrencias.groupBy(\"Ano\").agg(\n",
    "    (F.sum(\"Lesoes_Fatais_Tripulantes\") + F.sum(\"Lesoes_Fatais_Passageiros\") + F.sum(\"Lesoes_Fatais_Terceiros\")).alias(\"Total_Fatalidades\")\n",
    ")\n",
    "\n",
    "# Ordene os resultados por ano\n",
    "fatalidades_por_ano = fatalidades_por_ano.orderBy(F.desc(\"Ano\"))\n",
    "\n",
    "# Mostre os resultados\n",
    "fatalidades_por_ano.show(n=50)\n",
    "\n"
   ]
  },
  {
   "cell_type": "markdown",
   "metadata": {},
   "source": [
    "### 2 - Durante a noite há mais ocorrências (18:00 a 05:00)?"
   ]
  },
  {
   "cell_type": "code",
   "execution_count": null,
   "metadata": {},
   "outputs": [],
   "source": [
    "# Definir uma função que verifica o período do dia\n",
    "def periodo_dia(hora_col):\n",
    "    return F.when(\n",
    "        hora_col.isNull(), F.lit(None)\n",
    "    ).when(\n",
    "        (hora_col >= 18) | (hora_col < 5), F.lit('noite')\n",
    "    ).otherwise(F.lit('dia'))"
   ]
  },
  {
   "cell_type": "code",
   "execution_count": null,
   "metadata": {},
   "outputs": [],
   "source": [
    "# Adicionar a nova coluna 'Periodo_do_Dia' baseada na coluna 'Hora_da_Ocorrencia'\n",
    "df_ocorrencias = df_ocorrencias.withColumn('Periodo_do_Dia', periodo_dia(F.hour('Hora_da_Ocorrencia')))\n",
    "\n",
    "# Mostrar o DataFrame resultante\n",
    "#df_ocorrencias = df_ocorrencias.select(\"Numero_da_Ocorrencia\",\"Classificacao_da_Ocorrencia\",\"Hora_da_Ocorrencia\",\"Periodo_do_Dia\")\n",
    "df_ocorrencias.show(truncate=False)"
   ]
  },
  {
   "cell_type": "code",
   "execution_count": null,
   "metadata": {},
   "outputs": [],
   "source": [
    "df_periodoDia = df_ocorrencias.groupBy(\"Periodo_do_Dia\").agg(F.count(F.col(\"Periodo_do_Dia\")).alias(\"Total\"))\n",
    "df_periodoDia.filter((F.col(\"Periodo_do_Dia\") != \"NULL\")).show(truncate=False)\n",
    "#df_periodoDia.show(truncate=False)"
   ]
  },
  {
   "cell_type": "markdown",
   "metadata": {},
   "source": [
    "### 3 - Algumas regiões tem mais ocorrências que outras?\n"
   ]
  },
  {
   "cell_type": "code",
   "execution_count": null,
   "metadata": {},
   "outputs": [],
   "source": [
    "\n",
    "# Realizar o join entre df_ocorrencias e df_regioes baseado na coluna \"Regiao\"\n",
    "df_joined_regioes = df_ocorrencias.join(df_estados, \"Regiao\", \"inner\")\n",
    "\n",
    "# Agora, realizar a agregação no DataFrame resultante do join\n",
    "df_regioes =  df_joined_regioes.groupBy(\"REGIAO\").agg(F.count(F.col(\"REGIAO\")).alias(\"Qtd_ocorrencias\")).orderBy(F.desc(\"Qtd_ocorrencias\"))\n",
    "\n",
    "# Exibir o resultado\n",
    "df_regioes.show()\n"
   ]
  },
  {
   "cell_type": "markdown",
   "metadata": {},
   "source": [
    "### 4 - Verificar em quantas cidades já aconteceram ocorrências?"
   ]
  },
  {
   "cell_type": "code",
   "execution_count": null,
   "metadata": {},
   "outputs": [],
   "source": [
    "\n",
    "# Realizar a junção dos DataFrames\n",
    "# Utilizamos o método join para combinar os dois DataFrames com base em uma chave comum.\n",
    "# Aqui, estamos juntando as tabelas onde a coluna 'Municipio' no DataFrame df_ocorrencias \n",
    "# corresponde à coluna 'nome' no DataFrame df_municipios.\n",
    "# O parâmetro how='inner' especifica que queremos uma junção interna, \n",
    "# ou seja, apenas as linhas com correspondência em ambas as tabelas serão mantidas.\n",
    "merged_df = df_ocorrencias.join(df_municipios, df_ocorrencias.Municipio == df_municipios.nome_m, how='inner')\n",
    "\n",
    "# Contar o número de municípios distintos onde ocorreram ocorrências\n",
    "# Usamos select para selecionar a coluna 'Municipio' do DataFrame resultante da junção.\n",
    "# O método distinct() remove duplicatas, de modo que cada município apareça apenas uma vez.\n",
    "# Finalmente, count() conta o número de linhas distintas, o que nos dá o número de municípios únicos.\n",
    "num_cidades_com_ocorrencias = merged_df.select(\"Municipio\").distinct().count()\n",
    "\n",
    "# Imprimimos o número de cidades onde ocorreram as ocorrências.\n",
    "print(f\"Ocorrências já aconteceram em {num_cidades_com_ocorrencias} cidades.\")"
   ]
  },
  {
   "cell_type": "markdown",
   "metadata": {},
   "source": [
    "### 5 - alguns operadores têm mais ocorrências que outros?"
   ]
  },
  {
   "cell_type": "code",
   "execution_count": null,
   "metadata": {},
   "outputs": [],
   "source": [
    "df_operadores = df_ocorrencias.groupBy(\"Operador_Padronizado\").agg(F.count(F.col(\"Operador_Padronizado\")).alias(\"Qtd\")).orderBy(F.desc(\"Qtd\"))\n",
    "\n",
    "df_operadores.show(truncate=False, n=500)"
   ]
  }
 ],
 "metadata": {
  "kernelspec": {
   "display_name": ".venv",
   "language": "python",
   "name": "python3"
  },
  "language_info": {
   "codemirror_mode": {
    "name": "ipython",
    "version": 3
   },
   "file_extension": ".py",
   "mimetype": "text/x-python",
   "name": "python",
   "nbconvert_exporter": "python",
   "pygments_lexer": "ipython3",
   "version": "3.10.12"
  }
 },
 "nbformat": 4,
 "nbformat_minor": 2
}
